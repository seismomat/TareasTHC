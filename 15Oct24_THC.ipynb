{
  "nbformat": 4,
  "nbformat_minor": 0,
  "metadata": {
    "colab": {
      "provenance": [],
      "authorship_tag": "ABX9TyM11PEb4I/tGtfRvGjIaMMH",
      "include_colab_link": true
    },
    "kernelspec": {
      "name": "python3",
      "display_name": "Python 3"
    },
    "language_info": {
      "name": "python"
    }
  },
  "cells": [
    {
      "cell_type": "markdown",
      "metadata": {
        "id": "view-in-github",
        "colab_type": "text"
      },
      "source": [
        "<a href=\"https://colab.research.google.com/github/seismomat/TareasTHC/blob/main/15Oct24_THC.ipynb\" target=\"_parent\"><img src=\"https://colab.research.google.com/assets/colab-badge.svg\" alt=\"Open In Colab\"/></a>"
      ]
    },
    {
      "cell_type": "code",
      "execution_count": 3,
      "metadata": {
        "id": "M1n6r7wNVt4m"
      },
      "outputs": [],
      "source": [
        "def mi_funcion():\n",
        "  print(\"Hola estoy en una función\")"
      ]
    },
    {
      "cell_type": "code",
      "source": [
        "mi_funcion() #estoy llamando la función"
      ],
      "metadata": {
        "colab": {
          "base_uri": "https://localhost:8080/"
        },
        "id": "yYoMf-U7VzVi",
        "outputId": "0b8f7ebc-f9bc-4387-f4d4-8bee5af7bfe4"
      },
      "execution_count": 6,
      "outputs": [
        {
          "output_type": "stream",
          "name": "stdout",
          "text": [
            "Hola estoy en una función\n"
          ]
        }
      ]
    },
    {
      "cell_type": "code",
      "source": [
        "def mi_funcion(nombre):\n",
        "  print(\"Hola me llamo \"+nombre)"
      ],
      "metadata": {
        "id": "POfWdNa6YFBZ"
      },
      "execution_count": 7,
      "outputs": []
    },
    {
      "cell_type": "code",
      "source": [
        "mi_funcion(\"Fulano\")"
      ],
      "metadata": {
        "colab": {
          "base_uri": "https://localhost:8080/"
        },
        "id": "3TFr57H8YlZz",
        "outputId": "2b7bc041-633e-4487-8f6d-a0329d7c724a"
      },
      "execution_count": 9,
      "outputs": [
        {
          "output_type": "stream",
          "name": "stdout",
          "text": [
            "Hola me llamo Fulano\n"
          ]
        }
      ]
    },
    {
      "cell_type": "code",
      "source": [
        "def mi_funcion(nombre,apellido):\n",
        "  print(\"Hola me llamo \"+nombre+apellido)"
      ],
      "metadata": {
        "id": "V9oGVMizYn5S"
      },
      "execution_count": 24,
      "outputs": []
    },
    {
      "cell_type": "code",
      "source": [
        "mi_funcion(\"Coss \",\"Iván \")"
      ],
      "metadata": {
        "colab": {
          "base_uri": "https://localhost:8080/"
        },
        "id": "97QE6cUVZFi6",
        "outputId": "24a8b53b-912a-4530-b7d3-e77a847ed2ae"
      },
      "execution_count": 26,
      "outputs": [
        {
          "output_type": "stream",
          "name": "stdout",
          "text": [
            "Hola me llamo Coss Iván \n"
          ]
        }
      ]
    },
    {
      "cell_type": "code",
      "source": [
        "def mi_funcion(*NC):\n",
        "  #NC es la abreviación de Nombre Completo\n",
        "  print(\"Hola me llamo \"+NC[0]+NC[1]+NC[2]+NC[3])"
      ],
      "metadata": {
        "id": "Bjh5Ti5xZJoY"
      },
      "execution_count": 18,
      "outputs": []
    },
    {
      "cell_type": "code",
      "source": [
        "mi_funcion(\"J \",\"I \",\"C \",\"C\")"
      ],
      "metadata": {
        "colab": {
          "base_uri": "https://localhost:8080/"
        },
        "id": "SDA6Vf0YZ2SJ",
        "outputId": "02820572-7ed0-4c80-89a5-1e03a4c226a8"
      },
      "execution_count": 20,
      "outputs": [
        {
          "output_type": "stream",
          "name": "stdout",
          "text": [
            "Hola me llamo J I C C\n"
          ]
        }
      ]
    },
    {
      "cell_type": "code",
      "source": [
        "def mi_funcion(NC):\n",
        "  #NC es la abreviación de Nombre Completo\n",
        "  print(\"Hola me llamo \"+NC[0]+NC[1]+NC[2]+NC[3])\n",
        "\n",
        "NoC=[\"J \",\"I \",\"C \",\"C\"] #NoC es la abreviación de Nombre Completo\n",
        "mi_funcion(NoC)"
      ],
      "metadata": {
        "colab": {
          "base_uri": "https://localhost:8080/"
        },
        "id": "C0HhHegEZ6d5",
        "outputId": "d41cc307-d315-45ba-ee88-2fdf96a044da"
      },
      "execution_count": 22,
      "outputs": [
        {
          "output_type": "stream",
          "name": "stdout",
          "text": [
            "Hola me llamo J I C C\n"
          ]
        }
      ]
    },
    {
      "cell_type": "code",
      "source": [
        "def mi_funcion(nombre=\"I \",apellido=\"C\"):\n",
        "  print(\"Hola me llamo \"+nombre+apellido)\n",
        "\n",
        "mi_funcion(\"J \", \"S\")"
      ],
      "metadata": {
        "colab": {
          "base_uri": "https://localhost:8080/"
        },
        "id": "bNmSfeJ6a0lK",
        "outputId": "79747c97-2cdd-4dbc-f572-278db4f1fbcb"
      },
      "execution_count": 29,
      "outputs": [
        {
          "output_type": "stream",
          "name": "stdout",
          "text": [
            "Hola me llamo J S\n"
          ]
        }
      ]
    },
    {
      "cell_type": "code",
      "source": [
        "def mi_funcion(nombre=\"I \",apellido=\"C\"):\n",
        "  print(\"Hola me llamo \"+nombre+apellido)\n",
        "\n",
        "nombre=\"J \"\n",
        "apellido=\"S\"\n",
        "mi_funcion(nombre,apellido)\n",
        "print(\"Hola me llamo \"+nombre+apellido)"
      ],
      "metadata": {
        "colab": {
          "base_uri": "https://localhost:8080/"
        },
        "id": "K7f7Al7ob_Qx",
        "outputId": "b6dc6dd3-4513-42b8-956b-b60683e693b1"
      },
      "execution_count": 31,
      "outputs": [
        {
          "output_type": "stream",
          "name": "stdout",
          "text": [
            "Hola me llamo J S\n",
            "Hola me llamo J S\n"
          ]
        }
      ]
    },
    {
      "cell_type": "code",
      "source": [
        "def mi_funcion(apellido,nombre):\n",
        "  print(\"Hola me llamo \"+nombre+apellido)\n",
        "\n",
        "mi_funcion(nombre=\" J \",apellido= \" S \")\n",
        "mi_funcion(\" J \",\" S \")"
      ],
      "metadata": {
        "colab": {
          "base_uri": "https://localhost:8080/"
        },
        "id": "kzHC1bMJdnvz",
        "outputId": "546fe632-c709-4ca5-c9ff-b6cdc7c66d1a"
      },
      "execution_count": 34,
      "outputs": [
        {
          "output_type": "stream",
          "name": "stdout",
          "text": [
            "Hola me llamo  J  S \n",
            "Hola me llamo  S  J \n"
          ]
        }
      ]
    },
    {
      "cell_type": "code",
      "source": [
        "def mi_funcion(apellido,nombre):\n",
        "  NombreCompleto=nombre+apellido\n",
        "  NombreCompleto1=nombre+apellido+\"2\"\n",
        "  return NombreCompleto,NombreCompleto1\n",
        "\n",
        "NC,NC1=mi_funcion(nombre=\" J \",apellido= \" S \")\n",
        "print(\"Hola me llamo \"+NC)"
      ],
      "metadata": {
        "colab": {
          "base_uri": "https://localhost:8080/"
        },
        "id": "R4yP8F8RfEcs",
        "outputId": "ac6c7ed6-db39-4793-dbef-8b431414de0c"
      },
      "execution_count": 39,
      "outputs": [
        {
          "output_type": "stream",
          "name": "stdout",
          "text": [
            "Hola me llamo  J  S \n"
          ]
        }
      ]
    },
    {
      "cell_type": "markdown",
      "source": [
        "Ejercicio\n",
        "\n",
        "Hacer un programa que haga lo siguiente\n",
        "\n",
        "1) Que al programa le ingresen 3 variables llamadas Nombre, Apellido, Edad\n",
        "\n",
        "2) Valide que la entrada de la edad sea un entero\n",
        "\n",
        "3) Haga que su programa siempre tenga valores por default por si el usuario no ingresa valores\n",
        "\n",
        "4) Valide que el nombre no tenga mas de 5 letras\n",
        "\n",
        "5) Devuelva un letrero con la presentación de la persona e imprimalo"
      ],
      "metadata": {
        "id": "ZVrCv7J4hout"
      }
    },
    {
      "cell_type": "code",
      "source": [
        "def Datos(Nombre=\"Jesus\", Apellido=\"Lucia\", Edad=25):\n",
        "  if len(Nombre)>5:\n",
        "    print(\"No se acepta tu Nombre\")\n",
        "  else:\n",
        "    print(\"Se acepta tu Nombre\")\n",
        "    if type(Edad)==int:\n",
        "      print(\"Se acepta tu Edad\")\n",
        "      Presentacion=\"Hola mi nombre es \"+ Nombre+\" \"+ Apellido+\" y tengo \"+str(Edad) + \" años\"\n",
        "      return Presentacion\n",
        "    else:\n",
        "      print(\"No se acepta tu Edad\")\n",
        "\n",
        "\n",
        "Prese=Datos(\"Jesus\",\"Lucia\", 18)\n",
        "print(Prese)"
      ],
      "metadata": {
        "colab": {
          "base_uri": "https://localhost:8080/"
        },
        "id": "5YxuY-EPiUis",
        "outputId": "6593e1e1-ffee-4f54-853d-fd8478872148"
      },
      "execution_count": 55,
      "outputs": [
        {
          "output_type": "stream",
          "name": "stdout",
          "text": [
            "Se acepta tu Nombre\n",
            "Se acepta tu Edad\n",
            "Hola mi nombre es Jesus Lucia y tengo 18 años\n"
          ]
        }
      ]
    },
    {
      "cell_type": "code",
      "source": [],
      "metadata": {
        "id": "8U8YTqn0qjqH"
      },
      "execution_count": null,
      "outputs": []
    }
  ]
}