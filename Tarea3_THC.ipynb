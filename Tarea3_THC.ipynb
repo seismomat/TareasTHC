{
  "nbformat": 4,
  "nbformat_minor": 0,
  "metadata": {
    "colab": {
      "provenance": [],
      "include_colab_link": true
    },
    "kernelspec": {
      "name": "python3",
      "display_name": "Python 3"
    },
    "language_info": {
      "name": "python"
    }
  },
  "cells": [
    {
      "cell_type": "markdown",
      "metadata": {
        "id": "view-in-github",
        "colab_type": "text"
      },
      "source": [
        "<a href=\"https://colab.research.google.com/github/seismomat/TareasTHC/blob/main/Tarea3_THC.ipynb\" target=\"_parent\"><img src=\"https://colab.research.google.com/assets/colab-badge.svg\" alt=\"Open In Colab\"/></a>"
      ]
    },
    {
      "cell_type": "markdown",
      "source": [
        "<font color=\"Red\" face=\"Comic Sans MS,arial\">\n",
        "  <h1 align=\"center\"><i>Tarea 1 de Python </i></h1>\n",
        "  </font>\n",
        "  \n",
        "> Elaborado por:\n",
        "\n",
        "> Miguel Ángel Carrillo Lucía. miguelcarrillo15@ciencias.unam.mx\n",
        "\n",
        "> Jesús Iván Coss Calderón. mat_ing_coss@ciencias.unam.mx"
      ],
      "metadata": {
        "id": "Acw5GbRohNTA"
      }
    },
    {
      "cell_type": "markdown",
      "source": [
        "**Objetivo general**\n",
        "\n",
        "* Demostrar los conocimientos adquiridos de bucles, listas y estructuras de control.\n",
        "\n",
        "**Objetivos particulares**\n",
        "\n",
        "* Aprender a resolver problemas prácticos usando python"
      ],
      "metadata": {
        "id": "-4IW6Nx2jBHt"
      }
    },
    {
      "cell_type": "markdown",
      "source": [
        "#**Ejercicio 1**:\n",
        "Diseña un programa que convierta dólares americanos a pesos mexicanos, euros, libras\n",
        "esterlinas, yuanes y rublos utilizando una tasa de cambio fija. Muestre la tasa de cambio e imprima los cinco resultados.\n"
      ],
      "metadata": {
        "id": "QZ7aCHF0TYtT"
      }
    },
    {
      "cell_type": "code",
      "source": [],
      "metadata": {
        "id": "TBR-3raL8Epc"
      },
      "execution_count": null,
      "outputs": []
    },
    {
      "cell_type": "markdown",
      "source": [
        "#**Ejercicio 2**:\n",
        "Escribe un programa que pida al usuario su edad y clasifique la entrada en 'niño',\n",
        " 'adolescente', 'adulto' o 'adulto mayor'."
      ],
      "metadata": {
        "id": "G-aCihICT7hi"
      }
    },
    {
      "cell_type": "code",
      "source": [],
      "metadata": {
        "id": "LeEsrq4p8FOs"
      },
      "execution_count": null,
      "outputs": []
    },
    {
      "cell_type": "markdown",
      "source": [
        "#**Ejercicio 3**:\n",
        "Desarrolla un programa que calcule el precio final de un producto después de aplicar un descuento.\n",
        " El usuario debe ingresar el precio original y el porcentaje de descuento. Imprima el precio final."
      ],
      "metadata": {
        "id": "oM_h9APNTIW9"
      }
    },
    {
      "cell_type": "code",
      "source": [],
      "metadata": {
        "id": "ay0KWLXf8F5k"
      },
      "execution_count": null,
      "outputs": []
    },
    {
      "cell_type": "markdown",
      "source": [
        "#**Ejercicio 4**:\n",
        "Crea un script que determine cuál de tres números introducidos por el usuario es el mayor,\n",
        "usando sentencias IF anidadas o múltiples ELIF."
      ],
      "metadata": {
        "id": "pXTw_US7UIhy"
      }
    },
    {
      "cell_type": "code",
      "source": [],
      "metadata": {
        "id": "oSJXRXBb8Gck"
      },
      "execution_count": null,
      "outputs": []
    },
    {
      "cell_type": "markdown",
      "source": [
        "#**Ejercicio 5**:\n",
        "Programe una función que resuelva ecuaciones de segundo grado utilizando la fórmula general.\n",
        "El usuario debe ingresar los valores de a, b y c. Genere valores por default por si el usuario no ingresa\n",
        "un número entero o flotante. Además, calcule el valor del discriminante\n",
        "(b^2 - 4ac) y determine si tiene soluciones reales, soluciones complejas. Imprima el resultado."
      ],
      "metadata": {
        "id": "LJgQNYz1Tmaj"
      }
    },
    {
      "cell_type": "code",
      "source": [],
      "metadata": {
        "id": "L1CQPnlC8G9c"
      },
      "execution_count": null,
      "outputs": []
    },
    {
      "cell_type": "markdown",
      "source": [
        "#**Ejercicio 6**\n",
        "\n",
        " Escriba una función que reciba una lista de números y devuelva dos listas: una con los números positivos y otra con los negativos."
      ],
      "metadata": {
        "id": "1VC6sG1wix_2"
      }
    },
    {
      "cell_type": "code",
      "source": [],
      "metadata": {
        "id": "j-nKpLKG8HdU"
      },
      "execution_count": null,
      "outputs": []
    },
    {
      "cell_type": "markdown",
      "source": [
        "#**Ejercicio 7**\n",
        "\n",
        "Escriba una función que reciba una lista de datos (la de abajo) y devuelva listas con los datos filtrados. Este programa debe separar los datos en **int**, **str**, **bool**, **float**. **Hint**: use la función **append** para insertar datos en las listas."
      ],
      "metadata": {
        "id": "B3DOqZgpjxMf"
      }
    },
    {
      "cell_type": "code",
      "source": [
        "Datos= [5, 2.4, \"hola\", 7, 10, 3.14,True,False, \"Hi\", 0, 0.265]# lista a usar"
      ],
      "metadata": {
        "id": "5zQMRLNYis12"
      },
      "execution_count": null,
      "outputs": []
    },
    {
      "cell_type": "code",
      "source": [],
      "metadata": {
        "id": "0HH0Debs8Joc"
      },
      "execution_count": null,
      "outputs": []
    },
    {
      "cell_type": "markdown",
      "source": [
        "#**Ejercicio 8**:\n",
        "\n",
        "Imprimir pirámide de asteriscos\n",
        "Descripción: Crea una función que imprima una pirámide de asteriscos usando bucles anidados, donde el número de niveles de la pirámide sea un valor dado."
      ],
      "metadata": {
        "id": "Q7XYGpfGkuD4"
      }
    },
    {
      "cell_type": "code",
      "source": [
        "def piramide_asteriscos(niveles):\n",
        "\n",
        "piramide_asteriscos(5)\n",
        "# Resultado:\n",
        "# *\n",
        "# **\n",
        "# ***\n",
        "# ****\n",
        "# *****\n"
      ],
      "metadata": {
        "colab": {
          "base_uri": "https://localhost:8080/"
        },
        "id": "lKlZ67KRkXwn",
        "outputId": "78bd0f90-baf8-41bc-9243-ffad50b18531"
      },
      "execution_count": null,
      "outputs": [
        {
          "output_type": "stream",
          "name": "stdout",
          "text": [
            "*\n",
            "**\n",
            "***\n",
            "****\n",
            "*****\n"
          ]
        }
      ]
    },
    {
      "cell_type": "markdown",
      "source": [
        "#**Ejercicio 9**:\n",
        "\n",
        "Escriba una función que calcule el factorial de un número, el cual debe ser ingresado por el usuario, después usted debe validar que sea un número natural mayor o igual a cero y en caso de que ingrese un número negativo, una letra o cadena, debe pedir nuevamente el número al usuario."
      ],
      "metadata": {
        "id": "xL6YMsdClOy9"
      }
    },
    {
      "cell_type": "code",
      "source": [
        "##Ejercicio"
      ],
      "metadata": {
        "id": "JYhyNp21l43j"
      },
      "execution_count": null,
      "outputs": []
    },
    {
      "cell_type": "markdown",
      "source": [
        "#**Ejercicio 10**:\n",
        "Programar una función que calcule la distancia entre dos puntos en el plano cartesiano,\n",
        "dadas sus coordenadas (x1, y1) y (x2, y2)."
      ],
      "metadata": {
        "id": "8z6e_aduTxWh"
      }
    },
    {
      "cell_type": "code",
      "source": [],
      "metadata": {
        "id": "rKes7ySm8LJy"
      },
      "execution_count": null,
      "outputs": []
    },
    {
      "cell_type": "markdown",
      "source": [
        "#**Ejercicio 11**:\n",
        "Programe un script que determine si dos rectas dadas por las ecuaciones y1=m1x + b1 y y2=m2x+b2 se\n",
        "intersectan, son paralelas o coincidentes. Utilice estructuras de control (IF - ELSE)\n",
        "para manejar los diferentes casos.\n"
      ],
      "metadata": {
        "id": "YZ1CmeGNUfd6"
      }
    },
    {
      "cell_type": "code",
      "source": [],
      "metadata": {
        "id": "oTNVz98W8LuZ"
      },
      "execution_count": null,
      "outputs": []
    },
    {
      "cell_type": "markdown",
      "source": [
        "#**Ejercicio 12**:\n",
        "Iván y Miguel quieren jugar a los dados con las siguientes reglas:\n",
        "\n",
        "    Si sale 1, vuelven a lanzar.\n",
        "    Si sale 6, quedan empatados.\n",
        "    Si sale 2 ó 3 gana Iván.\n",
        "    Si sale 4 ó 5 gana Miguel.\n",
        "\n",
        "Haga un programa que le permita jugar a Iván y Miguel utilizando el condicional while. Se debe imprimir el mensaje de acuerdo a las reglas establecidas.\n",
        "**Hint** = Utilice la librería random para generar los números aleatorios."
      ],
      "metadata": {
        "id": "qdHirPx6I2ib"
      }
    },
    {
      "cell_type": "code",
      "source": [],
      "metadata": {
        "id": "dDHP_-CG8Nqg"
      },
      "execution_count": null,
      "outputs": []
    }
  ]
}